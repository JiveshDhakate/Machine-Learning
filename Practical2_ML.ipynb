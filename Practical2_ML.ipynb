{
  "nbformat": 4,
  "nbformat_minor": 0,
  "metadata": {
    "colab": {
      "provenance": [],
      "collapsed_sections": [],
      "authorship_tag": "ABX9TyNPmC0I3ZpayMS3Xm8XVEdW",
      "include_colab_link": true
    },
    "kernelspec": {
      "name": "python3",
      "display_name": "Python 3"
    },
    "language_info": {
      "name": "python"
    }
  },
  "cells": [
    {
      "cell_type": "markdown",
      "metadata": {
        "id": "view-in-github",
        "colab_type": "text"
      },
      "source": [
        "<a href=\"https://colab.research.google.com/github/JiveshDhakate/Machine-Learning/blob/main/Practical2_ML.ipynb\" target=\"_parent\"><img src=\"https://colab.research.google.com/assets/colab-badge.svg\" alt=\"Open In Colab\"/></a>"
      ]
    },
    {
      "cell_type": "markdown",
      "source": [
        "**Performance Metrics for Classification:**"
      ],
      "metadata": {
        "id": "dDZSvFisw6Gn"
      }
    },
    {
      "cell_type": "code",
      "execution_count": 1,
      "metadata": {
        "id": "Fmi2qnexwWtK"
      },
      "outputs": [],
      "source": [
        "from sklearn.metrics import confusion_matrix\n",
        "from sklearn.metrics import accuracy_score\n",
        "from sklearn.metrics import classification_report\n",
        "from sklearn.metrics import roc_auc_score\n",
        "from sklearn.metrics import log_loss\n"
      ]
    },
    {
      "cell_type": "code",
      "source": [
        "X_actual = [1, 1, 0, 1, 0, 0, 1, 0, 0, 1]\n",
        "Y_predict = [1, 0, 1, 0, 1, 0, 1, 1, 0, 0]"
      ],
      "metadata": {
        "id": "I6GJ64w5wkRI"
      },
      "execution_count": 3,
      "outputs": []
    },
    {
      "cell_type": "code",
      "source": [
        "results = confusion_matrix(X_actual, Y_predic)\n",
        "print ('Confusion Matrix :')\n",
        "print(results)"
      ],
      "metadata": {
        "colab": {
          "base_uri": "https://localhost:8080/"
        },
        "id": "PZV9LUx0ws9f",
        "outputId": "cc876e29-4a04-4cae-9779-ec057a10d58d"
      },
      "execution_count": 4,
      "outputs": [
        {
          "output_type": "stream",
          "name": "stdout",
          "text": [
            "Confusion Matrix :\n",
            "[[2 3]\n",
            " [3 2]]\n"
          ]
        }
      ]
    },
    {
      "cell_type": "code",
      "source": [
        "print ('Classification Report : ')\n",
        "print (classification_report(X_actual, Y_predic))\n",
        "print('AUC-ROC:',roc_auc_score(X_actual, Y_predic))\n",
        "print('LOGLOSS Value is',log_loss(X_actual, Y_predic))"
      ],
      "metadata": {
        "colab": {
          "base_uri": "https://localhost:8080/"
        },
        "id": "eNHbME4mw13u",
        "outputId": "84db727f-1be0-4c01-d3c3-6aec6e33f988"
      },
      "execution_count": 6,
      "outputs": [
        {
          "output_type": "stream",
          "name": "stdout",
          "text": [
            "Classification Report : \n",
            "              precision    recall  f1-score   support\n",
            "\n",
            "           0       0.40      0.40      0.40         5\n",
            "           1       0.40      0.40      0.40         5\n",
            "\n",
            "    accuracy                           0.40        10\n",
            "   macro avg       0.40      0.40      0.40        10\n",
            "weighted avg       0.40      0.40      0.40        10\n",
            "\n",
            "AUC-ROC: 0.39999999999999997\n",
            "LOGLOSS Value is 20.723505716175467\n"
          ]
        }
      ]
    },
    {
      "cell_type": "code",
      "source": [
        "print ('Accuracy Score is',accuracy_score(X_actual, Y_predic))"
      ],
      "metadata": {
        "colab": {
          "base_uri": "https://localhost:8080/"
        },
        "id": "0g-5F-HhwyS1",
        "outputId": "c01c1869-b5a8-4c03-eb08-324f1ff79830"
      },
      "execution_count": 5,
      "outputs": [
        {
          "output_type": "stream",
          "name": "stdout",
          "text": [
            "Accuracy Score is 0.4\n"
          ]
        }
      ]
    },
    {
      "cell_type": "markdown",
      "source": [
        "**Performance Metrics for Regression**"
      ],
      "metadata": {
        "id": "43foENCcxi8g"
      }
    },
    {
      "cell_type": "code",
      "source": [
        "from sklearn.metrics import r2_score\n",
        "from sklearn.metrics import mean_absolute_error\n",
        "from sklearn.metrics import mean_squared_error\n",
        "X_actual = [4, -1, 2, 10]\n",
        "Y_predic = [3.5, -0.9, 6, 9.9]\n",
        "print ('R Squared =',r2_score(X_actual, Y_predic))\n",
        "print ('MAE =',mean_absolute_error(X_actual, Y_predic))\n",
        "print ('MSE =',mean_squared_error(X_actual, Y_predic))"
      ],
      "metadata": {
        "colab": {
          "base_uri": "https://localhost:8080/"
        },
        "id": "15UbQyOIxPVL",
        "outputId": "b1bd8e57-543c-48a9-89ea-1d56b6acd549"
      },
      "execution_count": 7,
      "outputs": [
        {
          "output_type": "stream",
          "name": "stdout",
          "text": [
            "R Squared = 0.7487258687258687\n",
            "MAE = 1.1749999999999998\n",
            "MSE = 4.067500000000001\n"
          ]
        }
      ]
    }
  ]
}