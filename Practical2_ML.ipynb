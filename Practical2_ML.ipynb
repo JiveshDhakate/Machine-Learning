{
  "nbformat": 4,
  "nbformat_minor": 0,
  "metadata": {
    "colab": {
      "provenance": [],
      "toc_visible": true,
      "authorship_tag": "ABX9TyO++T6FMsmTlsUBh8BlEUE9",
      "include_colab_link": true
    },
    "kernelspec": {
      "name": "python3",
      "display_name": "Python 3"
    },
    "language_info": {
      "name": "python"
    }
  },
  "cells": [
    {
      "cell_type": "markdown",
      "metadata": {
        "id": "view-in-github",
        "colab_type": "text"
      },
      "source": [
        "<a href=\"https://colab.research.google.com/github/JiveshDhakate/Machine-Learning/blob/main/Practical2_ML.ipynb\" target=\"_parent\"><img src=\"https://colab.research.google.com/assets/colab-badge.svg\" alt=\"Open In Colab\"/></a>"
      ]
    },
    {
      "cell_type": "markdown",
      "source": [
        "**Performance Metrics for Classification:**"
      ],
      "metadata": {
        "id": "dDZSvFisw6Gn"
      }
    },
    {
      "cell_type": "code",
      "execution_count": 5,
      "metadata": {
        "id": "Fmi2qnexwWtK"
      },
      "outputs": [],
      "source": [
        "from sklearn.metrics import confusion_matrix\n",
        "from sklearn.metrics import accuracy_score\n",
        "from sklearn.metrics import classification_report\n"
      ]
    },
    {
      "cell_type": "code",
      "source": [
        "X_actual = [1, 1, 0, 1, 0, 0, 1, 0, 0, 1]\n",
        "Y_predic = [1, 0, 1, 0, 1, 0, 0, 1, 0, 0]"
      ],
      "metadata": {
        "id": "I6GJ64w5wkRI"
      },
      "execution_count": 12,
      "outputs": []
    },
    {
      "cell_type": "code",
      "source": [
        "print('Confusion Matrix')\n",
        "print(confusion_matrix(X_actual,Y_predic))"
      ],
      "metadata": {
        "colab": {
          "base_uri": "https://localhost:8080/"
        },
        "id": "eNHbME4mw13u",
        "outputId": "73d2cfb4-0fc7-451e-ebb7-26101c07347e"
      },
      "execution_count": 13,
      "outputs": [
        {
          "output_type": "stream",
          "name": "stdout",
          "text": [
            "Confusion Matrix\n",
            "[[2 3]\n",
            " [4 1]]\n"
          ]
        }
      ]
    },
    {
      "cell_type": "code",
      "source": [
        "print ('Classification Report : ')\n",
        "print (classification_report(X_actual, Y_predic))"
      ],
      "metadata": {
        "colab": {
          "base_uri": "https://localhost:8080/"
        },
        "id": "C7l_M53mNTsq",
        "outputId": "fe765a8a-b11c-471b-dd99-dbcff586ff98"
      },
      "execution_count": 14,
      "outputs": [
        {
          "output_type": "stream",
          "name": "stdout",
          "text": [
            "Classification Report : \n",
            "              precision    recall  f1-score   support\n",
            "\n",
            "           0       0.33      0.40      0.36         5\n",
            "           1       0.25      0.20      0.22         5\n",
            "\n",
            "    accuracy                           0.30        10\n",
            "   macro avg       0.29      0.30      0.29        10\n",
            "weighted avg       0.29      0.30      0.29        10\n",
            "\n"
          ]
        }
      ]
    },
    {
      "cell_type": "code",
      "source": [
        "print ('Accuracy Score is',accuracy_score(X_actual, Y_predic))"
      ],
      "metadata": {
        "colab": {
          "base_uri": "https://localhost:8080/"
        },
        "id": "0g-5F-HhwyS1",
        "outputId": "9f8ba5e1-3dd7-454b-be24-2072f4860092"
      },
      "execution_count": 15,
      "outputs": [
        {
          "output_type": "stream",
          "name": "stdout",
          "text": [
            "Accuracy Score is 0.3\n"
          ]
        }
      ]
    },
    {
      "cell_type": "markdown",
      "source": [
        "**Performance Metrics for Regression**"
      ],
      "metadata": {
        "id": "43foENCcxi8g"
      }
    },
    {
      "cell_type": "code",
      "source": [
        "from sklearn.metrics import r2_score\n",
        "from sklearn.metrics import mean_absolute_error\n",
        "from sklearn.metrics import mean_squared_error\n",
        "X_actual = [4, -1, 2, 10]\n",
        "Y_predic = [3.5, -0.9, 6, 9.9]\n",
        "print ('R Squared =',r2_score(X_actual, Y_predic))\n",
        "print ('MAE =',mean_absolute_error(X_actual, Y_predic))\n",
        "print ('MSE =',mean_squared_error(X_actual, Y_predic))"
      ],
      "metadata": {
        "colab": {
          "base_uri": "https://localhost:8080/"
        },
        "id": "15UbQyOIxPVL",
        "outputId": "ab840c99-4c69-4464-f6db-94d12ef21533"
      },
      "execution_count": 16,
      "outputs": [
        {
          "output_type": "stream",
          "name": "stdout",
          "text": [
            "R Squared = 0.7487258687258687\n",
            "MAE = 1.1749999999999998\n",
            "MSE = 4.067500000000001\n"
          ]
        }
      ]
    }
  ]
}